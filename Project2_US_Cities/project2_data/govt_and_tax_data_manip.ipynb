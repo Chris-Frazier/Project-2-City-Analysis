{
 "cells": [
  {
   "cell_type": "markdown",
   "metadata": {},
   "source": [
    "# Data manupulation Govt And Tax codes"
   ]
  },
  {
   "cell_type": "markdown",
   "metadata": {},
   "source": [
    "For the third year in a row, we found that service professionals valued three things above all others in their local government: a licensing system that is simple and makes compliance easy; a tax system that has clear rules and is easy to understand; and training and networking programs that help service professionals get their businesses up and running, comply with the local rules, and meet other professionals in their industries."
   ]
  },
  {
   "cell_type": "code",
   "execution_count": 1,
   "metadata": {},
   "outputs": [],
   "source": [
    "import pandas as pd"
   ]
  },
  {
   "cell_type": "code",
   "execution_count": 5,
   "metadata": {},
   "outputs": [],
   "source": [
    "url = \"https://taxfoundation.org/publications/state-business-tax-climate-index/\""
   ]
  },
  {
   "cell_type": "code",
   "execution_count": 9,
   "metadata": {},
   "outputs": [
    {
     "ename": "URLError",
     "evalue": "<urlopen error unknown url type: https>",
     "output_type": "error",
     "traceback": [
      "\u001b[1;31m---------------------------------------------------------------------------\u001b[0m",
      "\u001b[1;31mURLError\u001b[0m                                  Traceback (most recent call last)",
      "\u001b[1;32m<ipython-input-9-5d8f83db45ac>\u001b[0m in \u001b[0;36m<module>\u001b[1;34m\u001b[0m\n\u001b[1;32m----> 1\u001b[1;33m \u001b[0mpd\u001b[0m\u001b[1;33m.\u001b[0m\u001b[0mread_html\u001b[0m\u001b[1;33m(\u001b[0m\u001b[0murl\u001b[0m\u001b[1;33m)\u001b[0m\u001b[1;33m\u001b[0m\u001b[1;33m\u001b[0m\u001b[0m\n\u001b[0m",
      "\u001b[1;32m~\\Anaconda3\\lib\\site-packages\\pandas\\io\\html.py\u001b[0m in \u001b[0;36mread_html\u001b[1;34m(io, match, flavor, header, index_col, skiprows, attrs, parse_dates, tupleize_cols, thousands, encoding, decimal, converters, na_values, keep_default_na, displayed_only)\u001b[0m\n\u001b[0;32m    985\u001b[0m                   \u001b[0mdecimal\u001b[0m\u001b[1;33m=\u001b[0m\u001b[0mdecimal\u001b[0m\u001b[1;33m,\u001b[0m \u001b[0mconverters\u001b[0m\u001b[1;33m=\u001b[0m\u001b[0mconverters\u001b[0m\u001b[1;33m,\u001b[0m \u001b[0mna_values\u001b[0m\u001b[1;33m=\u001b[0m\u001b[0mna_values\u001b[0m\u001b[1;33m,\u001b[0m\u001b[1;33m\u001b[0m\u001b[1;33m\u001b[0m\u001b[0m\n\u001b[0;32m    986\u001b[0m                   \u001b[0mkeep_default_na\u001b[0m\u001b[1;33m=\u001b[0m\u001b[0mkeep_default_na\u001b[0m\u001b[1;33m,\u001b[0m\u001b[1;33m\u001b[0m\u001b[1;33m\u001b[0m\u001b[0m\n\u001b[1;32m--> 987\u001b[1;33m                   displayed_only=displayed_only)\n\u001b[0m",
      "\u001b[1;32m~\\Anaconda3\\lib\\site-packages\\pandas\\io\\html.py\u001b[0m in \u001b[0;36m_parse\u001b[1;34m(flavor, io, match, attrs, encoding, displayed_only, **kwargs)\u001b[0m\n\u001b[0;32m    813\u001b[0m             \u001b[1;32mbreak\u001b[0m\u001b[1;33m\u001b[0m\u001b[1;33m\u001b[0m\u001b[0m\n\u001b[0;32m    814\u001b[0m     \u001b[1;32melse\u001b[0m\u001b[1;33m:\u001b[0m\u001b[1;33m\u001b[0m\u001b[1;33m\u001b[0m\u001b[0m\n\u001b[1;32m--> 815\u001b[1;33m         \u001b[0mraise_with_traceback\u001b[0m\u001b[1;33m(\u001b[0m\u001b[0mretained\u001b[0m\u001b[1;33m)\u001b[0m\u001b[1;33m\u001b[0m\u001b[1;33m\u001b[0m\u001b[0m\n\u001b[0m\u001b[0;32m    816\u001b[0m \u001b[1;33m\u001b[0m\u001b[0m\n\u001b[0;32m    817\u001b[0m     \u001b[0mret\u001b[0m \u001b[1;33m=\u001b[0m \u001b[1;33m[\u001b[0m\u001b[1;33m]\u001b[0m\u001b[1;33m\u001b[0m\u001b[1;33m\u001b[0m\u001b[0m\n",
      "\u001b[1;32m~\\Anaconda3\\lib\\site-packages\\pandas\\compat\\__init__.py\u001b[0m in \u001b[0;36mraise_with_traceback\u001b[1;34m(exc, traceback)\u001b[0m\n\u001b[0;32m    402\u001b[0m         \u001b[1;32mif\u001b[0m \u001b[0mtraceback\u001b[0m \u001b[1;33m==\u001b[0m \u001b[0mEllipsis\u001b[0m\u001b[1;33m:\u001b[0m\u001b[1;33m\u001b[0m\u001b[1;33m\u001b[0m\u001b[0m\n\u001b[0;32m    403\u001b[0m             \u001b[0m_\u001b[0m\u001b[1;33m,\u001b[0m \u001b[0m_\u001b[0m\u001b[1;33m,\u001b[0m \u001b[0mtraceback\u001b[0m \u001b[1;33m=\u001b[0m \u001b[0msys\u001b[0m\u001b[1;33m.\u001b[0m\u001b[0mexc_info\u001b[0m\u001b[1;33m(\u001b[0m\u001b[1;33m)\u001b[0m\u001b[1;33m\u001b[0m\u001b[1;33m\u001b[0m\u001b[0m\n\u001b[1;32m--> 404\u001b[1;33m         \u001b[1;32mraise\u001b[0m \u001b[0mexc\u001b[0m\u001b[1;33m.\u001b[0m\u001b[0mwith_traceback\u001b[0m\u001b[1;33m(\u001b[0m\u001b[0mtraceback\u001b[0m\u001b[1;33m)\u001b[0m\u001b[1;33m\u001b[0m\u001b[1;33m\u001b[0m\u001b[0m\n\u001b[0m\u001b[0;32m    405\u001b[0m \u001b[1;32melse\u001b[0m\u001b[1;33m:\u001b[0m\u001b[1;33m\u001b[0m\u001b[1;33m\u001b[0m\u001b[0m\n\u001b[0;32m    406\u001b[0m     \u001b[1;31m# this version of raise is a syntax error in Python 3\u001b[0m\u001b[1;33m\u001b[0m\u001b[1;33m\u001b[0m\u001b[1;33m\u001b[0m\u001b[0m\n",
      "\u001b[1;31mURLError\u001b[0m: <urlopen error unknown url type: https>"
     ]
    }
   ],
   "source": [
    "pd.read_html(url)"
   ]
  },
  {
   "cell_type": "code",
   "execution_count": null,
   "metadata": {},
   "outputs": [],
   "source": [
    "df = scrape[1]\n",
    "#df.to_csv(\"tax_data.csv\")\n",
    "df.head()"
   ]
  },
  {
   "cell_type": "code",
   "execution_count": 2,
   "metadata": {},
   "outputs": [
    {
     "data": {
      "text/html": [
       "<div>\n",
       "<style scoped>\n",
       "    .dataframe tbody tr th:only-of-type {\n",
       "        vertical-align: middle;\n",
       "    }\n",
       "\n",
       "    .dataframe tbody tr th {\n",
       "        vertical-align: top;\n",
       "    }\n",
       "\n",
       "    .dataframe thead th {\n",
       "        text-align: right;\n",
       "    }\n",
       "</style>\n",
       "<table border=\"1\" class=\"dataframe\">\n",
       "  <thead>\n",
       "    <tr style=\"text-align: right;\">\n",
       "      <th></th>\n",
       "      <th>state</th>\n",
       "      <th>tax_rank</th>\n",
       "      <th>corp_tax_rank</th>\n",
       "      <th>income_tax_rank</th>\n",
       "      <th>sales_tax_rank</th>\n",
       "      <th>property_tax_rank</th>\n",
       "      <th>unemployment_tax_rank</th>\n",
       "    </tr>\n",
       "  </thead>\n",
       "  <tbody>\n",
       "    <tr>\n",
       "      <th>0</th>\n",
       "      <td>AL</td>\n",
       "      <td>39</td>\n",
       "      <td>20</td>\n",
       "      <td>30</td>\n",
       "      <td>48</td>\n",
       "      <td>15</td>\n",
       "      <td>12</td>\n",
       "    </tr>\n",
       "    <tr>\n",
       "      <th>1</th>\n",
       "      <td>AK</td>\n",
       "      <td>2</td>\n",
       "      <td>25</td>\n",
       "      <td>1</td>\n",
       "      <td>5</td>\n",
       "      <td>23</td>\n",
       "      <td>35</td>\n",
       "    </tr>\n",
       "    <tr>\n",
       "      <th>2</th>\n",
       "      <td>AZ</td>\n",
       "      <td>27</td>\n",
       "      <td>17</td>\n",
       "      <td>19</td>\n",
       "      <td>47</td>\n",
       "      <td>5</td>\n",
       "      <td>13</td>\n",
       "    </tr>\n",
       "    <tr>\n",
       "      <th>3</th>\n",
       "      <td>AR</td>\n",
       "      <td>46</td>\n",
       "      <td>40</td>\n",
       "      <td>40</td>\n",
       "      <td>44</td>\n",
       "      <td>26</td>\n",
       "      <td>34</td>\n",
       "    </tr>\n",
       "    <tr>\n",
       "      <th>4</th>\n",
       "      <td>CA</td>\n",
       "      <td>49</td>\n",
       "      <td>31</td>\n",
       "      <td>49</td>\n",
       "      <td>43</td>\n",
       "      <td>14</td>\n",
       "      <td>17</td>\n",
       "    </tr>\n",
       "  </tbody>\n",
       "</table>\n",
       "</div>"
      ],
      "text/plain": [
       "  state  tax_rank  corp_tax_rank  income_tax_rank  sales_tax_rank  \\\n",
       "0    AL        39             20               30              48   \n",
       "1    AK         2             25                1               5   \n",
       "2    AZ        27             17               19              47   \n",
       "3    AR        46             40               40              44   \n",
       "4    CA        49             31               49              43   \n",
       "\n",
       "   property_tax_rank  unemployment_tax_rank  \n",
       "0                 15                     12  \n",
       "1                 23                     35  \n",
       "2                  5                     13  \n",
       "3                 26                     34  \n",
       "4                 14                     17  "
      ]
     },
     "metadata": {},
     "output_type": "display_data"
    }
   ],
   "source": [
    "df_read = pd.read_csv(\"tax_data_abbr.csv\")\n",
    "df_read_rename = df_read.rename(columns= {\"Overall Rank\":\"tax_rank\",\"Corporate Tax Rank\":\"corp_tax_rank\",\"Individual Income Tax Rank\":\"income_tax_rank\",\"Sales Tax Rank\":\"sales_tax_rank\",\"Property Tax Rank\":\"property_tax_rank\",\"Unemployment Insurance Tax Rank\":\"unemployment_tax_rank\"})\n",
    "display(\n",
    "    df_read_rename.head(),\n",
    ")"
   ]
  },
  {
   "cell_type": "markdown",
   "metadata": {},
   "source": [
    "The Kauffman Foundation’s Index of Entrepreneurial Activity shows that entrepreneurship can be a safe harbor for cities during difficult economic periods – as individuals lose their jobs during economic downturns, entrepreneurship tends to rise as they turn towards self-employment to keep their skills up or help pay the bills, and it declines again as the labor market recovers. This suggests that cities that create the right environment for entrepreneurs will be better positioned to weather challenging economic periods. Listening directly to entrepreneurs as the Thumbtack survey does can help cities understand which policies are making them small business friendly and which are keeping small business at bay."
   ]
  },
  {
   "cell_type": "code",
   "execution_count": 3,
   "metadata": {},
   "outputs": [
    {
     "data": {
      "text/html": [
       "<div>\n",
       "<style scoped>\n",
       "    .dataframe tbody tr th:only-of-type {\n",
       "        vertical-align: middle;\n",
       "    }\n",
       "\n",
       "    .dataframe tbody tr th {\n",
       "        vertical-align: top;\n",
       "    }\n",
       "\n",
       "    .dataframe thead th {\n",
       "        text-align: right;\n",
       "    }\n",
       "</style>\n",
       "<table border=\"1\" class=\"dataframe\">\n",
       "  <thead>\n",
       "    <tr style=\"text-align: right;\">\n",
       "      <th></th>\n",
       "      <th>Id2</th>\n",
       "      <th>Geography</th>\n",
       "      <th>Travel time to work (min)</th>\n",
       "      <th>Median Income</th>\n",
       "      <th>Percent bachelor's degree or higher</th>\n",
       "      <th>Establishments 2011</th>\n",
       "      <th>Establishments 2016</th>\n",
       "      <th>Pop: 2011</th>\n",
       "      <th>Pop: 2016</th>\n",
       "      <th>% Change</th>\n",
       "      <th>LAT</th>\n",
       "      <th>LON</th>\n",
       "      <th>city</th>\n",
       "      <th>state</th>\n",
       "    </tr>\n",
       "  </thead>\n",
       "  <tbody>\n",
       "    <tr>\n",
       "      <th>0</th>\n",
       "      <td>10180</td>\n",
       "      <td>Abilene, TX</td>\n",
       "      <td>1313825</td>\n",
       "      <td>48016</td>\n",
       "      <td>20.4</td>\n",
       "      <td>3844.0</td>\n",
       "      <td>3950.0</td>\n",
       "      <td>165858.0</td>\n",
       "      <td>170860.0</td>\n",
       "      <td>-0.250727</td>\n",
       "      <td>32.448736</td>\n",
       "      <td>-99.733144</td>\n",
       "      <td>Abilene</td>\n",
       "      <td>TX</td>\n",
       "    </tr>\n",
       "    <tr>\n",
       "      <th>1</th>\n",
       "      <td>10420</td>\n",
       "      <td>Akron, OH</td>\n",
       "      <td>7359250</td>\n",
       "      <td>51598</td>\n",
       "      <td>31.0</td>\n",
       "      <td>16402.0</td>\n",
       "      <td>16390.0</td>\n",
       "      <td>701456.0</td>\n",
       "      <td>702221.0</td>\n",
       "      <td>-0.182022</td>\n",
       "      <td>41.081445</td>\n",
       "      <td>-81.519005</td>\n",
       "      <td>Akron</td>\n",
       "      <td>OH</td>\n",
       "    </tr>\n",
       "    <tr>\n",
       "      <th>2</th>\n",
       "      <td>10500</td>\n",
       "      <td>Albany, GA</td>\n",
       "      <td>1215320</td>\n",
       "      <td>40667</td>\n",
       "      <td>18.6</td>\n",
       "      <td>3242.0</td>\n",
       "      <td>3123.0</td>\n",
       "      <td>161617.0</td>\n",
       "      <td>152506.0</td>\n",
       "      <td>2.084330</td>\n",
       "      <td>31.578507</td>\n",
       "      <td>-84.155741</td>\n",
       "      <td>Albany</td>\n",
       "      <td>GA</td>\n",
       "    </tr>\n",
       "    <tr>\n",
       "      <th>3</th>\n",
       "      <td>10580</td>\n",
       "      <td>Albany-Schenectady-Troy, NY</td>\n",
       "      <td>9953675</td>\n",
       "      <td>65855</td>\n",
       "      <td>37.4</td>\n",
       "      <td>21027.0</td>\n",
       "      <td>21444.0</td>\n",
       "      <td>871478.0</td>\n",
       "      <td>881839.0</td>\n",
       "      <td>0.784933</td>\n",
       "      <td>42.763648</td>\n",
       "      <td>-73.653621</td>\n",
       "      <td>Albany-Schenectady-Troy</td>\n",
       "      <td>NY</td>\n",
       "    </tr>\n",
       "    <tr>\n",
       "      <th>4</th>\n",
       "      <td>10740</td>\n",
       "      <td>Albuquerque, NM</td>\n",
       "      <td>9286780</td>\n",
       "      <td>50954</td>\n",
       "      <td>31.8</td>\n",
       "      <td>18466.0</td>\n",
       "      <td>18645.0</td>\n",
       "      <td>899149.0</td>\n",
       "      <td>913924.0</td>\n",
       "      <td>-0.662977</td>\n",
       "      <td>35.084386</td>\n",
       "      <td>-106.650422</td>\n",
       "      <td>Albuquerque</td>\n",
       "      <td>NM</td>\n",
       "    </tr>\n",
       "  </tbody>\n",
       "</table>\n",
       "</div>"
      ],
      "text/plain": [
       "     Id2                    Geography  Travel time to work (min)  \\\n",
       "0  10180                  Abilene, TX                    1313825   \n",
       "1  10420                    Akron, OH                    7359250   \n",
       "2  10500                   Albany, GA                    1215320   \n",
       "3  10580  Albany-Schenectady-Troy, NY                    9953675   \n",
       "4  10740              Albuquerque, NM                    9286780   \n",
       "\n",
       "   Median Income  Percent bachelor's degree or higher  Establishments 2011  \\\n",
       "0          48016                                 20.4               3844.0   \n",
       "1          51598                                 31.0              16402.0   \n",
       "2          40667                                 18.6               3242.0   \n",
       "3          65855                                 37.4              21027.0   \n",
       "4          50954                                 31.8              18466.0   \n",
       "\n",
       "   Establishments 2016  Pop: 2011  Pop: 2016  % Change        LAT         LON  \\\n",
       "0               3950.0   165858.0   170860.0 -0.250727  32.448736  -99.733144   \n",
       "1              16390.0   701456.0   702221.0 -0.182022  41.081445  -81.519005   \n",
       "2               3123.0   161617.0   152506.0  2.084330  31.578507  -84.155741   \n",
       "3              21444.0   871478.0   881839.0  0.784933  42.763648  -73.653621   \n",
       "4              18645.0   899149.0   913924.0 -0.662977  35.084386 -106.650422   \n",
       "\n",
       "                      city state  \n",
       "0                  Abilene    TX  \n",
       "1                    Akron    OH  \n",
       "2                   Albany    GA  \n",
       "3  Albany-Schenectady-Troy    NY  \n",
       "4              Albuquerque    NM  "
      ]
     },
     "execution_count": 3,
     "metadata": {},
     "output_type": "execute_result"
    }
   ],
   "source": [
    "df_main = pd.read_csv(\"main.csv\")\n",
    "\n",
    "df_main.head()\n",
    "\n"
   ]
  },
  {
   "cell_type": "code",
   "execution_count": 7,
   "metadata": {},
   "outputs": [],
   "source": [
    "df_main_wtaxrank = pd.merge(df_main, df_read_rename, on = \"state\")"
   ]
  },
  {
   "cell_type": "code",
   "execution_count": 8,
   "metadata": {},
   "outputs": [],
   "source": [
    "df_main_wtaxrank = df_main_wtaxrank.rename(columns = {\"Geography\":\"city_state\",\"Travel time to work (min)\":\"agg_commute_mins\",\"Median Income\":\"median_household_inc\",\"Percent bachelor's degree or higher\":\"bach_or_higher_percent\",\"Establishments 2011\":\"estab_2011\",\"Establishments 2016\":\"estab_2016\",\"Pop: 2011\":\"pop_2011\",\"Pop: 2016\":\"pop_2016\",\"% Change\":\"biz_growth_Y\",\"LAT\":\"lat\",\"LON\":\"lng\"})"
   ]
  },
  {
   "cell_type": "code",
   "execution_count": 35,
   "metadata": {},
   "outputs": [],
   "source": [
    "#df_main_wtaxrank = df_main_wtaxrank.drop(columns= \"city_state\")"
   ]
  },
  {
   "cell_type": "code",
   "execution_count": 10,
   "metadata": {},
   "outputs": [],
   "source": [
    "df_main_wtaxrank.to_csv(\"main_wtaxrank.csv\")"
   ]
  },
  {
   "cell_type": "code",
   "execution_count": 9,
   "metadata": {},
   "outputs": [
    {
     "data": {
      "text/plain": [
       "Index(['Id2', 'city_state', 'agg_commute_mins', 'median_household_inc',\n",
       "       'bach_or_higher_percent', 'estab_2011', 'estab_2016', 'pop_2011',\n",
       "       'pop_2016', 'biz_growth_Y', 'lat', 'lng', 'city', 'state', 'tax_rank',\n",
       "       'corp_tax_rank', 'income_tax_rank', 'sales_tax_rank',\n",
       "       'property_tax_rank', 'unemployment_tax_rank'],\n",
       "      dtype='object')"
      ]
     },
     "execution_count": 9,
     "metadata": {},
     "output_type": "execute_result"
    }
   ],
   "source": [
    "df_main_wtaxrank.columns"
   ]
  },
  {
   "cell_type": "code",
   "execution_count": null,
   "metadata": {},
   "outputs": [],
   "source": []
  }
 ],
 "metadata": {
  "kernelspec": {
   "display_name": "Python 3",
   "language": "python",
   "name": "python3"
  },
  "language_info": {
   "codemirror_mode": {
    "name": "ipython",
    "version": 3
   },
   "file_extension": ".py",
   "mimetype": "text/x-python",
   "name": "python",
   "nbconvert_exporter": "python",
   "pygments_lexer": "ipython3",
   "version": "3.6.7"
  }
 },
 "nbformat": 4,
 "nbformat_minor": 2
}
