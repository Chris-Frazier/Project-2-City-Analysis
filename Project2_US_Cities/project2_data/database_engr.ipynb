{
 "cells": [
  {
   "cell_type": "markdown",
   "metadata": {},
   "source": [
    "# Database setup - Project 2\n"
   ]
  },
  {
   "cell_type": "code",
   "execution_count": 1,
   "metadata": {},
   "outputs": [],
   "source": [
    "# Imports\n",
    "import pandas as pd\n",
    "import sqlalchemy\n",
    "from sqlalchemy import create_engine, MetaData\n",
    "from sqlalchemy.ext.declarative import declarative_base\n",
    "from sqlalchemy import Column, Integer, String, Numeric, Text, Float, ForeignKey\n",
    "from sqlalchemy.orm import sessionmaker, relationship\n"
   ]
  },
  {
   "cell_type": "code",
   "execution_count": null,
   "metadata": {},
   "outputs": [],
   "source": [
    "# Create Engine\n",
    "engine = create_engine(\"sqlite:///p2_cities.sqlite\")\n",
    "\n",
    "# Use `declarative_base` from SQLAlchemy to model the city table as an ORM class\n",
    "# Make sure to specify types for each column\n",
    "# Declare a Base object here\n",
    "Base = declarative_base()\n"
   ]
  },
  {
   "cell_type": "code",
   "execution_count": null,
   "metadata": {},
   "outputs": [],
   "source": [
    "# Define the ORM class or `Cities`\n",
    "### BEGIN SOLUTION\n",
    "class Cities(Base):\n",
    "    \n",
    "    __tablename__ = 'cities'\n",
    "\n",
    "    id = Column(Integer, primary_key=True)\n",
    "    city = Column(Text)\n",
    "    state_name = Column(Text)\n",
    "    population = Column(Float)\n",
    "    lat = Column(Float)\n",
    "    lng = Column(Float)\n",
    "    #date = Column(Text)\n",
    "    #avg_edu = Column(Float)\n",
    "    #avg_income_pc = Column(Float)\n",
    "    #total_college_students = Column(Float)\n",
    "    #crime_rate_per_100000 = Column(Float)\n",
    "    \n",
    "    def __repr__(self):\n",
    "        return f\"id={self.id}, name={self.name}\""
   ]
  },
  {
   "cell_type": "code",
   "execution_count": null,
   "metadata": {},
   "outputs": [],
   "source": [
    "#use create all to create the table \n",
    "\n",
    "Base.metadata.create_all(engine)\n"
   ]
  },
  {
   "cell_type": "code",
   "execution_count": null,
   "metadata": {},
   "outputs": [],
   "source": [
    "# Verify that the table name exists in the database\n",
    "engine.table_names()"
   ]
  },
  {
   "cell_type": "code",
   "execution_count": null,
   "metadata": {},
   "outputs": [],
   "source": [
    "# Use Pandas to Bulk insert each CSV file into the table\n",
    "def populate_table(engine, table, csvfile):\n",
    "    \"\"\"Populates a table from a Pandas DataFrame.\"\"\"\n",
    "    # connect to the database\n",
    "    conn = engine.connect()\n",
    "    \n",
    "    # Load the CSV file into a pandas dataframe \n",
    "    df_to_insert = pd.read_csv(csvfile)\n",
    "    \n",
    "    # Orient='records' creates a list of data to write\n",
    "    # http://pandas-docs.github.io/pandas-docs-travis/io.html#orient-options\n",
    "    #orient = to columns or records better for our needs?\n",
    "    data = df_to_insert.to_dict(orient='records')\n",
    "\n",
    "    # Optional: Delete all rows in the table \n",
    "    conn.execute(table.delete())#NEEDED OR NOT?\n",
    "\n",
    "    # Insert the dataframe into the database in one bulk insert\n",
    "    conn.execute(table.insert(), data)\n",
    "    \n",
    "# Call the function to insert the data for each table\n",
    "populate_table(engine, Cities.__table__, 'cities.csv')\n"
   ]
  },
  {
   "cell_type": "code",
   "execution_count": null,
   "metadata": {},
   "outputs": [],
   "source": [
    "# Use a basic query to validate that the data was inserted correctly for table 'cities'\n",
    "\n",
    "engine.execute(\"SELECT * FROM cities WHERE population > 100000 ORDER BY population DESC LIMIT 1\").fetchall()"
   ]
  },
  {
   "cell_type": "code",
   "execution_count": null,
   "metadata": {},
   "outputs": [],
   "source": [
    "#This CSV is serving as our dummy DATA"
   ]
  },
  {
   "cell_type": "code",
   "execution_count": null,
   "metadata": {},
   "outputs": [],
   "source": [
    "df = pd.DataFrame(engine.execute(\"SELECT * FROM cities ORDER BY population DESC LIMIT 100\").fetchall())"
   ]
  },
  {
   "cell_type": "markdown",
   "metadata": {},
   "source": [
    "#############################################\n",
    "            REAL DB BELOW\n",
    "#############################################"
   ]
  },
  {
   "cell_type": "code",
   "execution_count": 13,
   "metadata": {},
   "outputs": [],
   "source": [
    "#cities_db.sqlite creation"
   ]
  },
  {
   "cell_type": "code",
   "execution_count": 2,
   "metadata": {},
   "outputs": [],
   "source": [
    "engine = create_engine(\"sqlite:///cities_db.sqlite\")\n",
    "\n",
    "# Use `declarative_base` from SQLAlchemy to model the city table as an ORM class\n",
    "# Make sure to specify types for each column\n",
    "# Declare a Base object here\n",
    "Base = declarative_base()"
   ]
  },
  {
   "cell_type": "code",
   "execution_count": 3,
   "metadata": {},
   "outputs": [],
   "source": [
    "# Define the ORM class or `Cities`\n",
    "### BEGIN SOLUTION        \n",
    "#Cities.city,\n",
    "#         Cities.state,\n",
    "#         Cities.lat,\n",
    "#         Cities.lng,\n",
    "#         Cities.pop_2016,\n",
    "#         Cities.estab_2016,\n",
    "#         Cities.median_household_inc,\n",
    "#         Cities.bach_or_higher_percent,\n",
    "#         Cities.agg_commute_mins,\n",
    "#         Cities.biz_growth_Y,\n",
    "#         Cities.tax_rank,\n",
    "#         Cities.corp_tax_rank,\n",
    "#         Cities.income_tax_rank,\n",
    "#         Cities.sales_tax_rank,\n",
    "#         Cities.property_tax_rank,\n",
    "#         Cities.unemployment_tax_rank\n",
    "\n",
    "class Cities(Base):\n",
    "    \n",
    "    __tablename__ = 'cities'\n",
    "\n",
    "    id2 = Column(Integer, primary_key=True)\n",
    "    city = Column(Text)\n",
    "    state = Column(Text)  \n",
    "    lat = Column(Float)\n",
    "    lng = Column(Float)\n",
    "    pop_2011 = Column(Float)\n",
    "    pop_2016 = Column(Float)\n",
    "    estab_2011 = Column(Float)\n",
    "    estab_2016 = Column(Float)\n",
    "    agg_commute_mins = Column(Float)\n",
    "    median_household_inc = Column(Float)\n",
    "    bach_or_higher_percent = Column(Float)\n",
    "    biz_growth_Y = Column(Float)\n",
    "    tax_rank = Column(Float)\n",
    "    corp_tax_rank = Column(Float)\n",
    "    income_tax_rank = Column(Float)\n",
    "    sales_tax_rank = Column(Float)\n",
    "    property_tax_rank = Column(Float)\n",
    "    unemployment_tax_rank = Column(Float)\n",
    "    city_state = Column(Text)\n",
    "    \n",
    "          def __repr__(self):\n",
    "        return f\"id={self.id}, name={self.name}\""
   ]
  },
  {
   "cell_type": "code",
   "execution_count": 4,
   "metadata": {},
   "outputs": [],
   "source": [
    "Base.metadata.create_all(engine)"
   ]
  },
  {
   "cell_type": "code",
   "execution_count": 5,
   "metadata": {},
   "outputs": [
    {
     "data": {
      "text/plain": [
       "['cities']"
      ]
     },
     "execution_count": 5,
     "metadata": {},
     "output_type": "execute_result"
    }
   ],
   "source": [
    "# Verify that the table name exists in the database\n",
    "engine.table_names()"
   ]
  },
  {
   "cell_type": "code",
   "execution_count": 6,
   "metadata": {},
   "outputs": [],
   "source": [
    "# Use Pandas to Bulk insert each CSV file into the table\n",
    "def populate_table(engine, table, csvfile):\n",
    "    \"\"\"Populates a table from a Pandas DataFrame.\"\"\"\n",
    "    # connect to the database\n",
    "    conn = engine.connect()\n",
    "    \n",
    "    # Load the CSV file into a pandas dataframe \n",
    "    df_to_insert = pd.read_csv(csvfile)\n",
    "    \n",
    "    # Orient='records' creates a list of data to write\n",
    "    # http://pandas-docs.github.io/pandas-docs-travis/io.html#orient-options\n",
    "    #orient = to columns or records better for our needs?\n",
    "    data = df_to_insert.to_dict(orient='records')\n",
    "\n",
    "    # Optional: Delete all rows in the table \n",
    "    conn.execute(table.delete())#NEEDED OR NOT?\n",
    "\n",
    "    # Insert the dataframe into the database in one bulk insert\n",
    "    conn.execute(table.insert(), data)\n",
    "    \n",
    "# Call the function to insert the data for each table\n",
    "populate_table(engine, Cities.__table__, 'main_wtaxrank.csv')"
   ]
  },
  {
   "cell_type": "code",
   "execution_count": null,
   "metadata": {},
   "outputs": [],
   "source": []
  },
  {
   "cell_type": "code",
   "execution_count": 9,
   "metadata": {},
   "outputs": [
    {
     "data": {
      "text/plain": [
       "[(1, 'Abilene', 'TX', 32.4487364, -99.73314390000002, 165858.0, 170860.0, 3844.0, 3950.0, 1313825.0, 48016.0, 20.4),\n",
       " (2, 'Amarillo', 'TX', 35.2219971, -101.8312969, 254635.0, 263491.0, 6018.0, 6348.0, 2334755.0, 54478.0, 23.7),\n",
       " (3, 'Austin-Round Rock', 'TX', 30.508255100000003, -97.678896, 1783519.0, 2056405.0, 41924.0, 50759.0, 26768530.0, 71000.0, 42.8),\n",
       " (4, 'Beaumont-Port Arthur', 'TX', 30.080174, -94.1265562, 390535.0, 409901.0, 7845.0, 7896.0, 3808355.0, 49364.0, 17.2),\n",
       " (5, 'Brownsville-Harlingen', 'TX', 26.1906306, -97.69610259999999, 414123.0, 422135.0, 6285.0, 6376.0, 3125575.0, 37061.0, 17.0),\n",
       " (6, 'College Station-Bryan', 'TX', 30.825147, -96.4929797, 227997.0, 254716.0, 4316.0, 4860.0, 2053660.0, 42233.0, 35.3),\n",
       " (7, 'Corpus Christi', 'TX', 27.8005828, -97.396381, 431381.0, 452790.0, 9257.0, 9543.0, 3887750.0, 53775.0, 21.2),\n",
       " (8, 'Dallas-Fort Worth-Arlington', 'TX', 32.707875099999995, -96.9209135, 6526566.0, 7232599.0, 141069.0, 160269.0, 96061810.0, 63812.0, 33.9),\n",
       " (9, 'El Paso', 'TX', 31.7618778, -106.4850217, 820790.0, 842114.0, 13494.0, 14424.0, 8251840.0, 42116.0, 21.9),\n",
       " (10, 'Houston-The Woodlands-Sugar Land', 'TX', 30.1746765, -95.4539647, 6086895.0, 6772470.0, 123784.0, 139010.0, 90558810.0, 61708.0, 32.0)]"
      ]
     },
     "execution_count": 9,
     "metadata": {},
     "output_type": "execute_result"
    }
   ],
   "source": [
    "engine.execute(\"SELECT * FROM cities LIMIT 10\").fetchall()"
   ]
  },
  {
   "cell_type": "code",
   "execution_count": null,
   "metadata": {},
   "outputs": [],
   "source": []
  }
 ],
 "metadata": {
  "kernelspec": {
   "display_name": "PythonData",
   "language": "python",
   "name": "pythondata"
  },
  "language_info": {
   "codemirror_mode": {
    "name": "ipython",
    "version": 3
   },
   "file_extension": ".py",
   "mimetype": "text/x-python",
   "name": "python",
   "nbconvert_exporter": "python",
   "pygments_lexer": "ipython3",
   "version": "3.6.7"
  }
 },
 "nbformat": 4,
 "nbformat_minor": 2
}
